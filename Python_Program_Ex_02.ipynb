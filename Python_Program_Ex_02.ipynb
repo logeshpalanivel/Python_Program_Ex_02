{
  "nbformat": 4,
  "nbformat_minor": 0,
  "metadata": {
    "colab": {
      "provenance": []
    },
    "kernelspec": {
      "name": "python3",
      "display_name": "Python 3"
    },
    "language_info": {
      "name": "python"
    }
  },
  "cells": [
    {
      "cell_type": "markdown",
      "source": [
        "Write a program to find a maximum of two numbers.\n"
      ],
      "metadata": {
        "id": "9t154MJ1gCg5"
      }
    },
    {
      "cell_type": "code",
      "execution_count": 1,
      "metadata": {
        "colab": {
          "base_uri": "https://localhost:8080/"
        },
        "id": "-UA6HtBgfwVE",
        "outputId": "7442bd13-beb8-4ae1-9c83-bad66116d8fd"
      },
      "outputs": [
        {
          "output_type": "stream",
          "name": "stdout",
          "text": [
            "a10\n",
            "b-10\n",
            "a is the maximun of two numbers\n"
          ]
        }
      ],
      "source": [
        "a=int(input('a'))\n",
        "b=int(input('b'))\n",
        "if(a>b):\n",
        "  print('a is the maximun of two numbers')\n",
        "else:\n",
        "  print('b is the ,aximun of two numbers')"
      ]
    },
    {
      "cell_type": "markdown",
      "source": [
        "Write a program to find a minimum of two numbers.\n"
      ],
      "metadata": {
        "id": "E5dz_A1WggCM"
      }
    },
    {
      "cell_type": "code",
      "source": [
        "a=int(input('a'))\n",
        "b=int(input('b'))\n",
        "if(a>b):\n",
        "  print('b is the mimimun of two numbers')\n",
        "else:\n",
        "  print('a is the minimun of two numbers')"
      ],
      "metadata": {
        "colab": {
          "base_uri": "https://localhost:8080/"
        },
        "id": "3l-BPSbpgUR9",
        "outputId": "ac2c01e6-7fb4-47de-8178-b168935b118a"
      },
      "execution_count": 2,
      "outputs": [
        {
          "output_type": "stream",
          "name": "stdout",
          "text": [
            "a10\n",
            "b-10\n",
            "b is the mimimun of two numbers\n"
          ]
        }
      ]
    },
    {
      "cell_type": "markdown",
      "source": [
        "Write a program to find a maximum of three numbers."
      ],
      "metadata": {
        "id": "XsbPZHkVgwX3"
      }
    },
    {
      "cell_type": "code",
      "source": [
        "a=int(input('a='))\n",
        "b=int(input('b='))\n",
        "c=int(input('c='))\n",
        "if(a>b) and (a>c):\n",
        "  print('a is the maximum of three numbers')\n",
        "if(b>a) and (b>c):\n",
        "  print('b is the maximum of three numbers')\n",
        "else:\n",
        "  print('c is the maximum of three numbers')\n",
        "\n",
        "\n"
      ],
      "metadata": {
        "colab": {
          "base_uri": "https://localhost:8080/"
        },
        "id": "L8KdGuH5gp2_",
        "outputId": "72f75726-111a-4c3c-a144-e9701f60c1f8"
      },
      "execution_count": 4,
      "outputs": [
        {
          "output_type": "stream",
          "name": "stdout",
          "text": [
            "a=2\n",
            "b=22\n",
            "c=-11\n",
            "b is the maximum of three numbers\n"
          ]
        }
      ]
    },
    {
      "cell_type": "markdown",
      "source": [
        "Write a program to check if the given number is Armstrong or not\n"
      ],
      "metadata": {
        "id": "0hTfEZ8hhPAG"
      }
    },
    {
      "cell_type": "code",
      "source": [
        "a= int(input('a='))\n",
        "x=a\n",
        "b= len(str(a))\n",
        "sum=0\n",
        "while(a>0):\n",
        "  n=a%10\n",
        "  k=pow(n,b)\n",
        "  sum=sum+k\n",
        "  a=a//10\n",
        "if(x==sum):\n",
        "  print('The given number is armstrong')\n",
        "else:\n",
        "  print('The given number is not an armstrong')\n",
        "\n",
        "\n",
        "\n",
        "\n"
      ],
      "metadata": {
        "colab": {
          "base_uri": "https://localhost:8080/"
        },
        "id": "THdNROCvhJCM",
        "outputId": "d3b7d709-0de0-4c83-990e-6f358a365760"
      },
      "execution_count": 12,
      "outputs": [
        {
          "output_type": "stream",
          "name": "stdout",
          "text": [
            "a=153\n",
            "The given number is armstrong\n"
          ]
        }
      ]
    },
    {
      "cell_type": "markdown",
      "source": [
        "Write a program to check if the given strings are anagram or not\n"
      ],
      "metadata": {
        "id": "h2tGWA5GjfM3"
      }
    },
    {
      "cell_type": "code",
      "source": [
        "a= input('a=')\n",
        "b =input('b=')\n",
        "if len(a) != len(b):\n",
        "    print(\"The strings are not anagrams\")\n",
        "else:\n",
        "    if sorted(a) == sorted(b):\n",
        "        print(\"The strings are anagrams\")\n",
        "    else:\n",
        "        print(\"The strings are not anagrams\")\n"
      ],
      "metadata": {
        "colab": {
          "base_uri": "https://localhost:8080/"
        },
        "id": "k7p7oySrjT2k",
        "outputId": "170789ef-cd39-4960-cdd8-68e1b4300a76"
      },
      "execution_count": 17,
      "outputs": [
        {
          "output_type": "stream",
          "name": "stdout",
          "text": [
            "a=abcd\n",
            "b=dcba\n",
            "The strings are anagrams\n"
          ]
        }
      ]
    }
  ]
}